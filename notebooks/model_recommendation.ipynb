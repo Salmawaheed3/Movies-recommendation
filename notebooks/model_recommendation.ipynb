{
  "cells": [
    {
      "cell_type": "code",
      "execution_count": 33,
      "metadata": {
        "colab": {
          "base_uri": "https://localhost:8080/"
        },
        "id": "k5Q82pR5v-DA",
        "outputId": "2233a72c-f6ca-469f-8e2a-d7e27f24e9d7"
      },
      "outputs": [
        {
          "name": "stdout",
          "output_type": "stream",
          "text": [
            "Requirement already satisfied: scikit-surprise in /usr/local/lib/python3.10/dist-packages (1.1.4)\n",
            "Requirement already satisfied: joblib>=1.2.0 in /usr/local/lib/python3.10/dist-packages (from scikit-surprise) (1.4.2)\n",
            "Requirement already satisfied: numpy>=1.19.5 in /usr/local/lib/python3.10/dist-packages (from scikit-surprise) (1.26.4)\n",
            "Requirement already satisfied: scipy>=1.6.0 in /usr/local/lib/python3.10/dist-packages (from scikit-surprise) (1.13.1)\n"
          ]
        }
      ],
      "source": [
        "!pip install scikit-surprise"
      ]
    },
    {
      "cell_type": "code",
      "execution_count": 34,
      "metadata": {
        "id": "ET85oLhejn0i"
      },
      "outputs": [],
      "source": [
        "import pandas as pd\n",
        "import numpy as np\n",
        "from sklearn.feature_extraction.text import CountVectorizer\n",
        "from sklearn.metrics.pairwise import cosine_similarity\n",
        "from sklearn.model_selection import train_test_split\n",
        "from surprise import Dataset, Reader, SVD\n",
        "from surprise.model_selection import cross_validate\n",
        "\n"
      ]
    },
    {
      "cell_type": "code",
      "execution_count": 35,
      "metadata": {
        "id": "BfAi67Qvmg7r"
      },
      "outputs": [],
      "source": [
        "cleaned_df = pd.read_csv('../data/cleaned_dataset.csv')"
      ]
    },
    {
      "cell_type": "code",
      "execution_count": 36,
      "metadata": {
        "colab": {
          "base_uri": "https://localhost:8080/"
        },
        "id": "qcN6oS_Pqk99",
        "outputId": "a0cd6e15-a6ba-4d2a-f2a4-3be1f9dcbbfd"
      },
      "outputs": [
        {
          "name": "stdout",
          "output_type": "stream",
          "text": [
            "0\n",
            "0    [ ' A c t i o n ' ,   ' A d v e n t u r e ' , ...\n",
            "1    [ ' A d v e n t u r e ' ,   ' F a n t a s y ' ...\n",
            "2    [ ' A c t i o n ' ,   ' A d v e n t u r e ' , ...\n",
            "3    [ ' A c t i o n ' ,   ' C r i m e ' ,   ' D r ...\n",
            "4    [ ' A c t i o n ' ,   ' A d v e n t u r e ' , ...\n",
            "Name: combined_features, dtype: object\n",
            "(4803, 32)\n",
            "(4803, 4803)\n",
            "1     Pirates of the Caribbean: At World's End\n",
            "2                                      Spectre\n",
            "3                        The Dark Knight Rises\n",
            "4                                  John Carter\n",
            "5                                 Spider-Man 3\n",
            "6                                      Tangled\n",
            "7                      Avengers: Age of Ultron\n",
            "8       Harry Potter and the Half-Blood Prince\n",
            "9           Batman v Superman: Dawn of Justice\n",
            "10                            Superman Returns\n",
            "Name: title_x, dtype: object\n"
          ]
        }
      ],
      "source": [
        "# Ensure 'combined_features' column is created correctly\n",
        "def combine_features(row):\n",
        "    # Combine genres, cast, and language as an example\n",
        "    return ' '.join(row['genres']) + ' ' + ' '.join(row['cast']) + ' ' + row['original_language']\n",
        "\n",
        "cleaned_df['combined_features'] = cleaned_df.apply(combine_features, axis=1)\n",
        "# Check that 'combined_features' has been created successfully\n",
        "print(cleaned_df['combined_features'].isnull().sum())  # Should output 0 if no null values\n",
        "print(cleaned_df['combined_features'].head())  # View some sample rows\n",
        "\n",
        "# Replace any remaining empty strings with NaN and drop rows with NaN in 'combined_features'\n",
        "cleaned_df = cleaned_df.replace({'combined_features': ''}, np.nan)\n",
        "cleaned_df = cleaned_df.dropna(subset=['combined_features'])\n",
        "count_vectorizer = CountVectorizer(stop_words='english')\n",
        "count_matrix = count_vectorizer.fit_transform(cleaned_df['combined_features'])\n",
        "cosine_sim = cosine_similarity(count_matrix)\n",
        "print(count_matrix.shape)\n",
        "print(cosine_sim.shape)\n",
        "\n",
        "# Function to get movie recommendations\n",
        "def get_recommendations(title, cosine_sim=cosine_sim):\n",
        "    idx = cleaned_df[cleaned_df['title_x'] == title].index[0]  # Adjust column name as needed\n",
        "    sim_scores = list(enumerate(cosine_sim[idx]))\n",
        "    sim_scores = sorted(sim_scores, key=lambda x: x[1], reverse=True)\n",
        "    sim_scores = sim_scores[1:11]  # Get top 10 most similar movies\n",
        "    movie_indices = [i[0] for i in sim_scores]\n",
        "    return cleaned_df['title_x'].iloc[movie_indices]\n",
        "\n",
        "# Test the recommendation system\n",
        "print(get_recommendations('Avatar'))\n"
      ]
    },
    {
      "cell_type": "code",
      "execution_count": 32,
      "metadata": {
        "colab": {
          "base_uri": "https://localhost:8080/"
        },
        "id": "969yFMfMx-Is",
        "outputId": "0c98821c-9dff-4e3e-d13b-fec1aba06f5f"
      },
      "outputs": [
        {
          "name": "stdout",
          "output_type": "stream",
          "text": [
            "Evaluating RMSE, MAE of algorithm SVD on 5 split(s).\n",
            "\n",
            "                  Fold 1  Fold 2  Fold 3  Fold 4  Fold 5  Mean    Std     \n",
            "RMSE (testset)    1.2819  1.2029  1.2316  1.0772  1.2439  1.2075  0.0699  \n",
            "MAE (testset)     0.8887  0.8418  0.8443  0.7919  0.8406  0.8414  0.0307  \n",
            "Fit time          0.23    0.35    0.26    0.13    0.17    0.23    0.07    \n",
            "Test time         0.01    0.01    0.02    0.01    0.01    0.01    0.00    \n",
            "                                              title    rating\n",
            "3238                           Little Miss Sunshine  6.544355\n",
            "4639                                           Cube  6.537046\n",
            "3228                        Yeh Jawaani Hai Deewani  6.505054\n",
            "3894                             A Room with a View  6.494881\n",
            "4678                   The Business of Fancydancing  6.487124\n",
            "3813                             Gone with the Wind  6.483067\n",
            "2386                                 One Man's Hero  6.481842\n",
            "287                                Django Unchained  6.477962\n",
            "329   The Lord of the Rings: The Return of the King  6.473996\n",
            "2594                                        One Day  6.473511\n"
          ]
        }
      ],
      "source": [
        "# Load data into Surprise format for collaborative filtering\n",
        "ratings_df = pd.DataFrame({\n",
        "    'user_id': np.random.randint(1, 500, size=len(cleaned_df)),  # Dummy user data\n",
        "    'movie_id': cleaned_df['movie_id'],\n",
        "    'rating': cleaned_df['vote_average']\n",
        "})\n",
        "\n",
        "reader = Reader(rating_scale=(1, 10))\n",
        "data = Dataset.load_from_df(ratings_df[['user_id', 'movie_id', 'rating']], reader)\n",
        "\n",
        "# Use Singular Value Decomposition (SVD) for collaborative filtering\n",
        "algo = SVD()\n",
        "\n",
        "# Cross-validation to evaluate the model\n",
        "cross_validate(algo, data, measures=['RMSE', 'MAE'], cv=5, verbose=True)\n",
        "\n",
        "# Train the model\n",
        "trainset = data.build_full_trainset()\n",
        "algo.fit(trainset)\n",
        "\n",
        "# Recommend movies to a user\n",
        "def recommend_for_user(user_id):\n",
        "    movie_ids = cleaned_df['movie_id'].values\n",
        "    ratings = [algo.predict(user_id, movie_id).est for movie_id in movie_ids]\n",
        "    movie_recommendations = pd.DataFrame({\n",
        "        'title': cleaned_df['title_x'],\n",
        "        'rating': ratings\n",
        "    }).sort_values(by='rating', ascending=False)\n",
        "    return movie_recommendations.head(10)\n",
        "\n",
        "# Test the recommendation function\n",
        "print(recommend_for_user(1))"
      ]
    }
  ],
  "metadata": {
    "colab": {
      "provenance": []
    },
    "kernelspec": {
      "display_name": "Python 3",
      "name": "python3"
    },
    "language_info": {
      "name": "python"
    }
  },
  "nbformat": 4,
  "nbformat_minor": 0
}
